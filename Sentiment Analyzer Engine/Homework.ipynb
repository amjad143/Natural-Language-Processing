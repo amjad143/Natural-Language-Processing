{
  "nbformat": 4,
  "nbformat_minor": 0,
  "metadata": {
    "colab": {
      "name": "Homework.ipynb",
      "provenance": []
    },
    "kernelspec": {
      "name": "python3",
      "display_name": "Python 3"
    }
  },
  "cells": [
    {
      "cell_type": "code",
      "metadata": {
        "id": "aDkusC_cjpvO"
      },
      "source": [
        "# importing basic libraries\n",
        "import numpy as np \n",
        "import pandas as pd \n",
        "import matplotlib.pyplot as plt \n",
        "import seaborn as sns\n",
        "from textblob import TextBlob\n",
        "import nltk"
      ],
      "execution_count": null,
      "outputs": []
    },
    {
      "cell_type": "code",
      "metadata": {
        "colab": {
          "base_uri": "https://localhost:8080/"
        },
        "id": "2E_nLVKhtghR",
        "outputId": "58e33266-4736-48d9-f14a-119263e8a48d"
      },
      "source": [
        "# lets read the dataset\n",
        "train =  pd.read_csv('/content/train.csv', nrows=7000)\n",
        "\n",
        "# lets check the shape of the dataset\n",
        "train.shape"
      ],
      "execution_count": null,
      "outputs": [
        {
          "output_type": "execute_result",
          "data": {
            "text/plain": [
              "(40000, 2)"
            ]
          },
          "metadata": {
            "tags": []
          },
          "execution_count": 3
        }
      ]
    },
    {
      "cell_type": "markdown",
      "metadata": {
        "id": "palolDYZuWAA"
      },
      "source": [
        "## 1. Count the number of words in each review"
      ]
    },
    {
      "cell_type": "code",
      "metadata": {
        "id": "rTWqcIrUuIzm"
      },
      "source": [
        ""
      ],
      "execution_count": null,
      "outputs": []
    },
    {
      "cell_type": "markdown",
      "metadata": {
        "id": "F7svfqKIugfO"
      },
      "source": [
        "## 2. Calculate the Polarity of the Reviews"
      ]
    },
    {
      "cell_type": "code",
      "metadata": {
        "id": "_x9usnlburKG"
      },
      "source": [
        ""
      ],
      "execution_count": null,
      "outputs": []
    },
    {
      "cell_type": "markdown",
      "metadata": {
        "id": "-odWRaQKvYoH"
      },
      "source": [
        "## 3. Remove all the punctuations from the Reviews"
      ]
    },
    {
      "cell_type": "code",
      "metadata": {
        "id": "lXPIi5S8veAs"
      },
      "source": [
        ""
      ],
      "execution_count": null,
      "outputs": []
    },
    {
      "cell_type": "markdown",
      "metadata": {
        "id": "kO5Bte-JveQx"
      },
      "source": [
        "## 4. Remove all the numbers from the Reviews"
      ]
    },
    {
      "cell_type": "code",
      "metadata": {
        "id": "XpUZB06xvrmg"
      },
      "source": [
        ""
      ],
      "execution_count": null,
      "outputs": []
    },
    {
      "cell_type": "markdown",
      "metadata": {
        "id": "B1zjhIYxvsXY"
      },
      "source": [
        "## 5. Convert all the words to lowercase and lemmatise them"
      ]
    },
    {
      "cell_type": "code",
      "metadata": {
        "id": "QJPj5muVwE6v"
      },
      "source": [
        ""
      ],
      "execution_count": null,
      "outputs": []
    },
    {
      "cell_type": "markdown",
      "metadata": {
        "id": "NDmL5hZowFkq"
      },
      "source": [
        "## 6. Remove all the stopwords from the Reviews"
      ]
    },
    {
      "cell_type": "code",
      "metadata": {
        "id": "J9DG35C9wKFT"
      },
      "source": [
        ""
      ],
      "execution_count": null,
      "outputs": []
    },
    {
      "cell_type": "markdown",
      "metadata": {
        "id": "uf55oHG0wKpK"
      },
      "source": [
        "## 7. Convert Textual data to numbers using TF-IDF Representation."
      ]
    },
    {
      "cell_type": "code",
      "metadata": {
        "id": "y5bSifjZxBIZ"
      },
      "source": [
        ""
      ],
      "execution_count": null,
      "outputs": []
    },
    {
      "cell_type": "markdown",
      "metadata": {
        "id": "emU3KnPtxB3Y"
      },
      "source": [
        "## 8. Split the data into training and testing sets."
      ]
    },
    {
      "cell_type": "code",
      "metadata": {
        "id": "7kirQm0WxN-n"
      },
      "source": [
        ""
      ],
      "execution_count": null,
      "outputs": []
    },
    {
      "cell_type": "markdown",
      "metadata": {
        "id": "nHbvIt1_xOdt"
      },
      "source": [
        "## 9. Make a Naive Bayes Classifier and evaluate it using confusion matrix"
      ]
    },
    {
      "cell_type": "code",
      "metadata": {
        "id": "5lam6EqVx0j6"
      },
      "source": [
        ""
      ],
      "execution_count": null,
      "outputs": []
    }
  ]
}