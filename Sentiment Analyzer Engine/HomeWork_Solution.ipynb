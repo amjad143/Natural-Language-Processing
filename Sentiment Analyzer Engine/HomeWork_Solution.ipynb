{
  "nbformat": 4,
  "nbformat_minor": 0,
  "metadata": {
    "colab": {
      "name": "HomeWork Solution.ipynb",
      "provenance": [],
      "collapsed_sections": [],
      "toc_visible": true
    },
    "kernelspec": {
      "name": "python3",
      "display_name": "Python 3"
    }
  },
  "cells": [
    {
      "cell_type": "code",
      "metadata": {
        "id": "awRDxwTiyDqC"
      },
      "source": [
        "# importing basic libraries\n",
        "import numpy as np \n",
        "import pandas as pd \n",
        "import matplotlib.pyplot as plt \n",
        "import seaborn as sns\n",
        "from textblob import TextBlob\n",
        "import nltk"
      ],
      "execution_count": null,
      "outputs": []
    },
    {
      "cell_type": "code",
      "metadata": {
        "colab": {
          "base_uri": "https://localhost:8080/"
        },
        "id": "_fzpUl2vyJFP",
        "outputId": "6ebda621-c4ed-4814-d6c7-bf1f4184c784"
      },
      "source": [
        "# lets read the dataset\n",
        "train =  pd.read_csv('/content/train.csv', nrows=7000)\n",
        "\n",
        "# lets check the shape of the dataset\n",
        "train.shape"
      ],
      "execution_count": null,
      "outputs": [
        {
          "output_type": "execute_result",
          "data": {
            "text/plain": [
              "(7000, 2)"
            ]
          },
          "metadata": {
            "tags": []
          },
          "execution_count": 19
        }
      ]
    },
    {
      "cell_type": "markdown",
      "metadata": {
        "id": "TuO7HXkcyMFs"
      },
      "source": [
        "## 1. Count the number of words in each Review."
      ]
    },
    {
      "cell_type": "code",
      "metadata": {
        "colab": {
          "base_uri": "https://localhost:8080/",
          "height": 142
        },
        "id": "ifmZgaKxyLkl",
        "outputId": "c937a46a-555e-4626-b191-b9a3e90273c9"
      },
      "source": [
        "# word count in each review\n",
        "train['word_count'] = train['text'].apply(lambda x: len(x.split()))\n",
        "train.head(3)"
      ],
      "execution_count": null,
      "outputs": [
        {
          "output_type": "execute_result",
          "data": {
            "text/html": [
              "<div>\n",
              "<style scoped>\n",
              "    .dataframe tbody tr th:only-of-type {\n",
              "        vertical-align: middle;\n",
              "    }\n",
              "\n",
              "    .dataframe tbody tr th {\n",
              "        vertical-align: top;\n",
              "    }\n",
              "\n",
              "    .dataframe thead th {\n",
              "        text-align: right;\n",
              "    }\n",
              "</style>\n",
              "<table border=\"1\" class=\"dataframe\">\n",
              "  <thead>\n",
              "    <tr style=\"text-align: right;\">\n",
              "      <th></th>\n",
              "      <th>text</th>\n",
              "      <th>label</th>\n",
              "      <th>word_count</th>\n",
              "    </tr>\n",
              "  </thead>\n",
              "  <tbody>\n",
              "    <tr>\n",
              "      <th>0</th>\n",
              "      <td>I grew up (b. 1965) watching and loving the Th...</td>\n",
              "      <td>0</td>\n",
              "      <td>151</td>\n",
              "    </tr>\n",
              "    <tr>\n",
              "      <th>1</th>\n",
              "      <td>When I put this movie in my DVD player, and sa...</td>\n",
              "      <td>0</td>\n",
              "      <td>326</td>\n",
              "    </tr>\n",
              "    <tr>\n",
              "      <th>2</th>\n",
              "      <td>Why do people who do not know what a particula...</td>\n",
              "      <td>0</td>\n",
              "      <td>184</td>\n",
              "    </tr>\n",
              "  </tbody>\n",
              "</table>\n",
              "</div>"
            ],
            "text/plain": [
              "                                                text  label  word_count\n",
              "0  I grew up (b. 1965) watching and loving the Th...      0         151\n",
              "1  When I put this movie in my DVD player, and sa...      0         326\n",
              "2  Why do people who do not know what a particula...      0         184"
            ]
          },
          "metadata": {
            "tags": []
          },
          "execution_count": 20
        }
      ]
    },
    {
      "cell_type": "markdown",
      "metadata": {
        "id": "y3HndHdnybg4"
      },
      "source": [
        "## 2. Calculate the Polarity of the Reviews"
      ]
    },
    {
      "cell_type": "code",
      "metadata": {
        "colab": {
          "base_uri": "https://localhost:8080/",
          "height": 204
        },
        "id": "9IZMhnoGygEY",
        "outputId": "42f1f838-5f52-46ba-f220-1a16ac4229a6"
      },
      "source": [
        "# Lets calculate the Polarity of the Reviews\n",
        "def get_polarity(text):\n",
        "    textblob = TextBlob(str(text))\n",
        "    pol = textblob.sentiment.polarity\n",
        "    return pol\n",
        "\n",
        "# lets apply the function\n",
        "train['polarity'] = train['text'].apply(get_polarity)\n",
        "\n",
        "train.head()"
      ],
      "execution_count": null,
      "outputs": [
        {
          "output_type": "execute_result",
          "data": {
            "text/html": [
              "<div>\n",
              "<style scoped>\n",
              "    .dataframe tbody tr th:only-of-type {\n",
              "        vertical-align: middle;\n",
              "    }\n",
              "\n",
              "    .dataframe tbody tr th {\n",
              "        vertical-align: top;\n",
              "    }\n",
              "\n",
              "    .dataframe thead th {\n",
              "        text-align: right;\n",
              "    }\n",
              "</style>\n",
              "<table border=\"1\" class=\"dataframe\">\n",
              "  <thead>\n",
              "    <tr style=\"text-align: right;\">\n",
              "      <th></th>\n",
              "      <th>text</th>\n",
              "      <th>label</th>\n",
              "      <th>word_count</th>\n",
              "      <th>polarity</th>\n",
              "    </tr>\n",
              "  </thead>\n",
              "  <tbody>\n",
              "    <tr>\n",
              "      <th>0</th>\n",
              "      <td>I grew up (b. 1965) watching and loving the Th...</td>\n",
              "      <td>0</td>\n",
              "      <td>151</td>\n",
              "      <td>0.123287</td>\n",
              "    </tr>\n",
              "    <tr>\n",
              "      <th>1</th>\n",
              "      <td>When I put this movie in my DVD player, and sa...</td>\n",
              "      <td>0</td>\n",
              "      <td>326</td>\n",
              "      <td>0.131345</td>\n",
              "    </tr>\n",
              "    <tr>\n",
              "      <th>2</th>\n",
              "      <td>Why do people who do not know what a particula...</td>\n",
              "      <td>0</td>\n",
              "      <td>184</td>\n",
              "      <td>-0.041369</td>\n",
              "    </tr>\n",
              "    <tr>\n",
              "      <th>3</th>\n",
              "      <td>Even though I have great interest in Biblical ...</td>\n",
              "      <td>0</td>\n",
              "      <td>69</td>\n",
              "      <td>-0.135714</td>\n",
              "    </tr>\n",
              "    <tr>\n",
              "      <th>4</th>\n",
              "      <td>Im a die hard Dads Army fan and nothing will e...</td>\n",
              "      <td>1</td>\n",
              "      <td>178</td>\n",
              "      <td>0.123256</td>\n",
              "    </tr>\n",
              "  </tbody>\n",
              "</table>\n",
              "</div>"
            ],
            "text/plain": [
              "                                                text  ...  polarity\n",
              "0  I grew up (b. 1965) watching and loving the Th...  ...  0.123287\n",
              "1  When I put this movie in my DVD player, and sa...  ...  0.131345\n",
              "2  Why do people who do not know what a particula...  ... -0.041369\n",
              "3  Even though I have great interest in Biblical ...  ... -0.135714\n",
              "4  Im a die hard Dads Army fan and nothing will e...  ...  0.123256\n",
              "\n",
              "[5 rows x 4 columns]"
            ]
          },
          "metadata": {
            "tags": []
          },
          "execution_count": 21
        }
      ]
    },
    {
      "cell_type": "markdown",
      "metadata": {
        "id": "9rVNIdPNymS2"
      },
      "source": [
        "## 3. Remove all the punctuations from the Reviews."
      ]
    },
    {
      "cell_type": "code",
      "metadata": {
        "id": "v2t_Vqq3yrtW"
      },
      "source": [
        "import string\n",
        "# lets remove Punctuations from the Reviews\n",
        "def punctuation_removal(messy_str):\n",
        "    clean_list = [char for char in messy_str if char not in string.punctuation]\n",
        "    clean_str = ''.join(clean_list)\n",
        "    return clean_str\n",
        "\n",
        "train['text'] = train['text'].apply(punctuation_removal)"
      ],
      "execution_count": null,
      "outputs": []
    },
    {
      "cell_type": "markdown",
      "metadata": {
        "id": "S13zwjwEy-QG"
      },
      "source": [
        "## 4. Remove all the numbers from the Reviews"
      ]
    },
    {
      "cell_type": "code",
      "metadata": {
        "id": "E2gla6vzzC5E"
      },
      "source": [
        "# lets make a function to remove Numbers from the reviews\n",
        "import re\n",
        "def drop_numbers(list_text):\n",
        "    list_text_new = []\n",
        "    for i in list_text:\n",
        "        if not re.search('\\d', i):\n",
        "            list_text_new.append(i)\n",
        "    return ''.join(list_text_new)\n",
        "\n",
        "train['text'] = train['text'].apply(drop_numbers)"
      ],
      "execution_count": null,
      "outputs": []
    },
    {
      "cell_type": "markdown",
      "metadata": {
        "id": "wCpuXiVezIMu"
      },
      "source": [
        "## 5. Convert all the words to lowercase and lemmatise them"
      ]
    },
    {
      "cell_type": "code",
      "metadata": {
        "colab": {
          "base_uri": "https://localhost:8080/"
        },
        "id": "c0xmGlRjzN2U",
        "outputId": "68014190-5f84-4b3b-b15b-20e4b5bb0a64"
      },
      "source": [
        "nltk.download('wordnet')"
      ],
      "execution_count": null,
      "outputs": [
        {
          "output_type": "stream",
          "text": [
            "[nltk_data] Downloading package wordnet to /root/nltk_data...\n",
            "[nltk_data]   Package wordnet is already up-to-date!\n"
          ],
          "name": "stdout"
        },
        {
          "output_type": "execute_result",
          "data": {
            "text/plain": [
              "True"
            ]
          },
          "metadata": {
            "tags": []
          },
          "execution_count": 24
        }
      ]
    },
    {
      "cell_type": "code",
      "metadata": {
        "colab": {
          "base_uri": "https://localhost:8080/"
        },
        "id": "nZROyCQd26Yh",
        "outputId": "d514277d-fc44-4a49-99fe-ea9cf227b264"
      },
      "source": [
        "nltk.download('punkt')"
      ],
      "execution_count": null,
      "outputs": [
        {
          "output_type": "stream",
          "text": [
            "[nltk_data] Downloading package punkt to /root/nltk_data...\n",
            "[nltk_data]   Package punkt is already up-to-date!\n"
          ],
          "name": "stdout"
        },
        {
          "output_type": "execute_result",
          "data": {
            "text/plain": [
              "True"
            ]
          },
          "metadata": {
            "tags": []
          },
          "execution_count": 25
        }
      ]
    },
    {
      "cell_type": "code",
      "metadata": {
        "id": "-E9f_LKN2v4E"
      },
      "source": [
        "from nltk.tokenize import word_tokenize\n",
        "from nltk.stem import WordNetLemmatizer\n",
        "lemmatizer = WordNetLemmatizer()\n",
        "# for lemmatisation\n",
        "def lemmatise(text):\n",
        "    text_tokens = word_tokenize(text)\n",
        "    text_lemm = [lemmatizer.lemmatize(word.lower()) for word in text_tokens]\n",
        "    return ' '.join(text_lemm)\n",
        "\n",
        "train['text'] = train['text'].apply(lemmatise)"
      ],
      "execution_count": null,
      "outputs": []
    },
    {
      "cell_type": "markdown",
      "metadata": {
        "id": "c8OWo5TFzQTH"
      },
      "source": [
        "## 6. Remove all the stopwords from the Reviews"
      ]
    },
    {
      "cell_type": "code",
      "metadata": {
        "colab": {
          "base_uri": "https://localhost:8080/"
        },
        "id": "RGkiChyK3Uc3",
        "outputId": "f1be5fbf-d37a-474e-dacf-4e7d8c17fee2"
      },
      "source": [
        "nltk.download('stopwords')"
      ],
      "execution_count": null,
      "outputs": [
        {
          "output_type": "stream",
          "text": [
            "[nltk_data] Downloading package stopwords to /root/nltk_data...\n",
            "[nltk_data]   Package stopwords is already up-to-date!\n"
          ],
          "name": "stdout"
        },
        {
          "output_type": "execute_result",
          "data": {
            "text/plain": [
              "True"
            ]
          },
          "metadata": {
            "tags": []
          },
          "execution_count": 27
        }
      ]
    },
    {
      "cell_type": "code",
      "metadata": {
        "id": "UMv0Jx4UzUjC"
      },
      "source": [
        "# for stopwords Removal\n",
        "from nltk.corpus import stopwords\n",
        "def remove_stopword(text):\n",
        "    text_tokens = word_tokenize(text)\n",
        "    tokens = [word for word in text_tokens if not word in set(stopwords.words('english'))]\n",
        "    tokens_text = ' '.join(tokens)\n",
        "    return tokens_text\n",
        "\n",
        "train['text'] = train['text'].apply(remove_stopword)"
      ],
      "execution_count": null,
      "outputs": []
    },
    {
      "cell_type": "markdown",
      "metadata": {
        "id": "G_N9RpuTzdfU"
      },
      "source": [
        "## 7. Convert textual data to numbers using TF-IDF representation"
      ]
    },
    {
      "cell_type": "code",
      "metadata": {
        "id": "AAyhrJc7zjkV",
        "colab": {
          "base_uri": "https://localhost:8080/"
        },
        "outputId": "3df7cbcd-9bce-47ed-c68d-4a25e5f27efd"
      },
      "source": [
        "# TF-IDF representation\n",
        "from sklearn.feature_extraction.text import TfidfVectorizer\n",
        "\n",
        "tf = TfidfVectorizer(max_features = 3000)\n",
        "\n",
        "x = tf.fit_transform(train['text']).toarray()\n",
        "y = train.iloc[:, 1].values\n",
        "\n",
        "print(x.shape)\n",
        "print(y.shape)"
      ],
      "execution_count": null,
      "outputs": [
        {
          "output_type": "stream",
          "text": [
            "(7000, 3000)\n",
            "(7000,)\n"
          ],
          "name": "stdout"
        }
      ]
    },
    {
      "cell_type": "markdown",
      "metadata": {
        "id": "j89y6L_izvsh"
      },
      "source": [
        "## 8. Split the data into training and testing sets"
      ]
    },
    {
      "cell_type": "code",
      "metadata": {
        "id": "8ppc51_Bz3Me",
        "colab": {
          "base_uri": "https://localhost:8080/"
        },
        "outputId": "263823a6-b90a-4608-ac4b-1e25447a9de1"
      },
      "source": [
        "# splitting the data into training and testing sets\n",
        "\n",
        "from sklearn.model_selection import train_test_split\n",
        "\n",
        "x_train, x_test, y_train, y_test = train_test_split(x, y, test_size = 0.3, random_state = 15)\n",
        "\n",
        "print(x_train.shape)\n",
        "print(y_train.shape)\n",
        "print(x_test.shape)\n",
        "print(y_test.shape)\n"
      ],
      "execution_count": null,
      "outputs": [
        {
          "output_type": "stream",
          "text": [
            "(4900, 3000)\n",
            "(4900,)\n",
            "(2100, 3000)\n",
            "(2100,)\n"
          ],
          "name": "stdout"
        }
      ]
    },
    {
      "cell_type": "markdown",
      "metadata": {
        "id": "_-wwPcGhz5m2"
      },
      "source": [
        "## 9. Make a Naive Bayes Classifier and evaluate it using Confusion matrix"
      ]
    },
    {
      "cell_type": "code",
      "metadata": {
        "id": "t1uFTYwq0AS4",
        "colab": {
          "base_uri": "https://localhost:8080/"
        },
        "outputId": "f6d0dd2d-eebe-4725-d9b9-714ad47ffb6c"
      },
      "source": [
        "from sklearn.naive_bayes import GaussianNB\n",
        "\n",
        "model = GaussianNB()\n",
        "model.fit(x_train, y_train)\n",
        "\n",
        "y_pred = model.predict(x_test)\n",
        "\n",
        "print(\"Training Accuracy :\", model.score(x_train, y_train))\n",
        "print(\"Testing Accuracy :\", model.score(x_test, y_test))"
      ],
      "execution_count": null,
      "outputs": [
        {
          "output_type": "stream",
          "text": [
            "Training Accuracy : 0.8771428571428571\n",
            "Testing Accuracy : 0.7657142857142857\n"
          ],
          "name": "stdout"
        }
      ]
    },
    {
      "cell_type": "code",
      "metadata": {
        "id": "BRQTXyjX0HKS",
        "colab": {
          "base_uri": "https://localhost:8080/"
        },
        "outputId": "4f035ea3-fdc5-4470-d7db-31fa7683edf1"
      },
      "source": [
        "from sklearn import metrics\n",
        "metrics.confusion_matrix(y_test, y_pred)"
      ],
      "execution_count": null,
      "outputs": [
        {
          "output_type": "execute_result",
          "data": {
            "text/plain": [
              "array([[811, 247],\n",
              "       [245, 797]])"
            ]
          },
          "metadata": {
            "tags": []
          },
          "execution_count": 36
        }
      ]
    }
  ]
}