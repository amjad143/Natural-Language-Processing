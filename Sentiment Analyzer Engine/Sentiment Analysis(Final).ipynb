{
 "cells": [
  {
   "cell_type": "markdown",
   "metadata": {},
   "source": [
    "# 3"
   ]
  },
  {
   "cell_type": "code",
   "execution_count": 68,
   "metadata": {},
   "outputs": [],
   "source": [
    "import tweepy,re\n",
    "from textblob import TextBlob\n",
    "import matplotlib.pyplot as plt\n",
    "import pandas as pd\n",
    "from nltk.tokenize import word_tokenize\n",
    "from nltk.stem import WordNetLemmatizer\n",
    "from nltk.corpus import stopwords"
   ]
  },
  {
   "cell_type": "code",
   "execution_count": 69,
   "metadata": {},
   "outputs": [],
   "source": [
    "# authentication\n",
    "consumerKey = 'nAfAiljzt8Ntd1oatjYU2uvKc'\n",
    "consumerSecret = 'JBJahC7nKS4q853V0vodZ8buaYGHwySv6u5XFm52dlownOqTRm'\n",
    "accessToken = '4880646753-8TzBk1UEjuvXEXR2XL7uJ2ZFMRZnwNrDOioUHI9'\n",
    "accessTokenSecret = 'CjAas3cB7A9OW7SJFA6SOkyfgv61MyN59W0g47ZSqBL2b'\n",
    "auth = tweepy.OAuthHandler(consumerKey, consumerSecret)\n",
    "auth.set_access_token(accessToken, accessTokenSecret)\n",
    "api = tweepy.API(auth)"
   ]
  },
  {
   "cell_type": "code",
   "execution_count": 70,
   "metadata": {},
   "outputs": [
    {
     "name": "stdout",
     "output_type": "stream",
     "text": [
      "Enter Keyword/Tag to search about: shahrukh khan\n",
      "Enter how many tweets to search: 70\n"
     ]
    }
   ],
   "source": [
    "# input for term to be searched and how many tweets to search\n",
    "searchTerm = input(\"Enter Keyword/Tag to search about: \")\n",
    "NoOfTerms = int(input(\"Enter how many tweets to search: \"))\n",
    "\n",
    "tweets = []\n",
    "tweetText = []\n",
    "# searching for tweets\n",
    "tweets = tweepy.Cursor(api.search, q=searchTerm+\" -filter:retweets\", lang = \"en\").items(NoOfTerms)"
   ]
  },
  {
   "cell_type": "code",
   "execution_count": 27,
   "metadata": {},
   "outputs": [
    {
     "data": {
      "text/html": [
       "<div>\n",
       "<style scoped>\n",
       "    .dataframe tbody tr th:only-of-type {\n",
       "        vertical-align: middle;\n",
       "    }\n",
       "\n",
       "    .dataframe tbody tr th {\n",
       "        vertical-align: top;\n",
       "    }\n",
       "\n",
       "    .dataframe thead th {\n",
       "        text-align: right;\n",
       "    }\n",
       "</style>\n",
       "<table border=\"1\" class=\"dataframe\">\n",
       "  <thead>\n",
       "    <tr style=\"text-align: right;\">\n",
       "      <th></th>\n",
       "      <th>0</th>\n",
       "    </tr>\n",
       "  </thead>\n",
       "  <tbody>\n",
       "    <tr>\n",
       "      <th>0</th>\n",
       "      <td>He’s a very good man. A very rare and beautifu...</td>\n",
       "    </tr>\n",
       "    <tr>\n",
       "      <th>1</th>\n",
       "      <td>ik some south asian armys say that jin reminds...</td>\n",
       "    </tr>\n",
       "    <tr>\n",
       "      <th>2</th>\n",
       "      <td>sameera khan are you sister of shahrukh khan? ...</td>\n",
       "    </tr>\n",
       "    <tr>\n",
       "      <th>3</th>\n",
       "      <td>@akshaykumar Highest HGOTY in INDIA: Selmon Kh...</td>\n",
       "    </tr>\n",
       "    <tr>\n",
       "      <th>4</th>\n",
       "      <td>@ReallySwara If Swaraji can give us an inciden...</td>\n",
       "    </tr>\n",
       "    <tr>\n",
       "      <th>...</th>\n",
       "      <td>...</td>\n",
       "    </tr>\n",
       "    <tr>\n",
       "      <th>65</th>\n",
       "      <td>Shahrukh khan lied when he said aik tarfa pyaa...</td>\n",
       "    </tr>\n",
       "    <tr>\n",
       "      <th>66</th>\n",
       "      <td>@Nishanth_ganesh @RCBTweets Yeah bro then what...</td>\n",
       "    </tr>\n",
       "    <tr>\n",
       "      <th>67</th>\n",
       "      <td>How many of u have watched mohabbatain movie o...</td>\n",
       "    </tr>\n",
       "    <tr>\n",
       "      <th>68</th>\n",
       "      <td>Shahrukh Khan Wiki, Age, Family, Movies, HD Ph...</td>\n",
       "    </tr>\n",
       "    <tr>\n",
       "      <th>69</th>\n",
       "      <td>@nobletrojan @McGoonergall Shahrukh khan was l...</td>\n",
       "    </tr>\n",
       "  </tbody>\n",
       "</table>\n",
       "<p>70 rows × 1 columns</p>\n",
       "</div>"
      ],
      "text/plain": [
       "                                                    0\n",
       "0   He’s a very good man. A very rare and beautifu...\n",
       "1   ik some south asian armys say that jin reminds...\n",
       "2   sameera khan are you sister of shahrukh khan? ...\n",
       "3   @akshaykumar Highest HGOTY in INDIA: Selmon Kh...\n",
       "4   @ReallySwara If Swaraji can give us an inciden...\n",
       "..                                                ...\n",
       "65  Shahrukh khan lied when he said aik tarfa pyaa...\n",
       "66  @Nishanth_ganesh @RCBTweets Yeah bro then what...\n",
       "67  How many of u have watched mohabbatain movie o...\n",
       "68  Shahrukh Khan Wiki, Age, Family, Movies, HD Ph...\n",
       "69  @nobletrojan @McGoonergall Shahrukh khan was l...\n",
       "\n",
       "[70 rows x 1 columns]"
      ]
     },
     "execution_count": 27,
     "metadata": {},
     "output_type": "execute_result"
    }
   ],
   "source": [
    "tweet_list = [tweet.text for tweet in tweets]\n",
    "tweet_df = pd.DataFrame(tweet_list)\n",
    "tweet_df"
   ]
  },
  {
   "cell_type": "markdown",
   "metadata": {},
   "source": [
    "# 4"
   ]
  },
  {
   "cell_type": "code",
   "execution_count": 28,
   "metadata": {},
   "outputs": [],
   "source": [
    "def clean_data(text):\n",
    "    return ' '.join(re.sub(\"(@[a-zA-Z0-9]+)|([^0-9A-Za-z])|(https://[\\w.]+/[\\w]+)\", \" \", text).split())\n",
    "\n",
    "tweet_df['cleaned_data'] = tweet_df[0].apply(clean_data)"
   ]
  },
  {
   "cell_type": "code",
   "execution_count": 29,
   "metadata": {},
   "outputs": [
    {
     "data": {
      "text/html": [
       "<div>\n",
       "<style scoped>\n",
       "    .dataframe tbody tr th:only-of-type {\n",
       "        vertical-align: middle;\n",
       "    }\n",
       "\n",
       "    .dataframe tbody tr th {\n",
       "        vertical-align: top;\n",
       "    }\n",
       "\n",
       "    .dataframe thead th {\n",
       "        text-align: right;\n",
       "    }\n",
       "</style>\n",
       "<table border=\"1\" class=\"dataframe\">\n",
       "  <thead>\n",
       "    <tr style=\"text-align: right;\">\n",
       "      <th></th>\n",
       "      <th>0</th>\n",
       "      <th>cleaned_data</th>\n",
       "    </tr>\n",
       "  </thead>\n",
       "  <tbody>\n",
       "    <tr>\n",
       "      <th>0</th>\n",
       "      <td>He’s a very good man. A very rare and beautifu...</td>\n",
       "      <td>He s a very good man A very rare and beautiful...</td>\n",
       "    </tr>\n",
       "    <tr>\n",
       "      <th>1</th>\n",
       "      <td>ik some south asian armys say that jin reminds...</td>\n",
       "      <td>ik some south asian armys say that jin reminds...</td>\n",
       "    </tr>\n",
       "    <tr>\n",
       "      <th>2</th>\n",
       "      <td>sameera khan are you sister of shahrukh khan? ...</td>\n",
       "      <td>sameera khan are you sister of shahrukh khan</td>\n",
       "    </tr>\n",
       "    <tr>\n",
       "      <th>3</th>\n",
       "      <td>@akshaykumar Highest HGOTY in INDIA: Selmon Kh...</td>\n",
       "      <td>Highest HGOTY in INDIA Selmon Khan 10 Highest ...</td>\n",
       "    </tr>\n",
       "    <tr>\n",
       "      <th>4</th>\n",
       "      <td>@ReallySwara If Swaraji can give us an inciden...</td>\n",
       "      <td>If Swaraji can give us an incident where Shahr...</td>\n",
       "    </tr>\n",
       "  </tbody>\n",
       "</table>\n",
       "</div>"
      ],
      "text/plain": [
       "                                                   0  \\\n",
       "0  He’s a very good man. A very rare and beautifu...   \n",
       "1  ik some south asian armys say that jin reminds...   \n",
       "2  sameera khan are you sister of shahrukh khan? ...   \n",
       "3  @akshaykumar Highest HGOTY in INDIA: Selmon Kh...   \n",
       "4  @ReallySwara If Swaraji can give us an inciden...   \n",
       "\n",
       "                                        cleaned_data  \n",
       "0  He s a very good man A very rare and beautiful...  \n",
       "1  ik some south asian armys say that jin reminds...  \n",
       "2       sameera khan are you sister of shahrukh khan  \n",
       "3  Highest HGOTY in INDIA Selmon Khan 10 Highest ...  \n",
       "4  If Swaraji can give us an incident where Shahr...  "
      ]
     },
     "execution_count": 29,
     "metadata": {},
     "output_type": "execute_result"
    }
   ],
   "source": [
    "tweet_df.head()"
   ]
  },
  {
   "cell_type": "code",
   "execution_count": 30,
   "metadata": {},
   "outputs": [],
   "source": [
    "def drop_numbers(list_text):\n",
    "    list_text_new = []\n",
    "    for i in list_text:\n",
    "        if not re.search('\\d', i):\n",
    "            list_text_new.append(i)\n",
    "    return ''.join(list_text_new)\n",
    "\n",
    "tweet_df['cleaned_data'] = tweet_df['cleaned_data'].apply(drop_numbers)"
   ]
  },
  {
   "cell_type": "code",
   "execution_count": 31,
   "metadata": {},
   "outputs": [
    {
     "data": {
      "text/html": [
       "<div>\n",
       "<style scoped>\n",
       "    .dataframe tbody tr th:only-of-type {\n",
       "        vertical-align: middle;\n",
       "    }\n",
       "\n",
       "    .dataframe tbody tr th {\n",
       "        vertical-align: top;\n",
       "    }\n",
       "\n",
       "    .dataframe thead th {\n",
       "        text-align: right;\n",
       "    }\n",
       "</style>\n",
       "<table border=\"1\" class=\"dataframe\">\n",
       "  <thead>\n",
       "    <tr style=\"text-align: right;\">\n",
       "      <th></th>\n",
       "      <th>0</th>\n",
       "      <th>cleaned_data</th>\n",
       "    </tr>\n",
       "  </thead>\n",
       "  <tbody>\n",
       "    <tr>\n",
       "      <th>0</th>\n",
       "      <td>He’s a very good man. A very rare and beautifu...</td>\n",
       "      <td>He s a very good man A very rare and beautiful...</td>\n",
       "    </tr>\n",
       "    <tr>\n",
       "      <th>1</th>\n",
       "      <td>ik some south asian armys say that jin reminds...</td>\n",
       "      <td>ik some south asian armys say that jin reminds...</td>\n",
       "    </tr>\n",
       "    <tr>\n",
       "      <th>2</th>\n",
       "      <td>sameera khan are you sister of shahrukh khan? ...</td>\n",
       "      <td>sameera khan are you sister of shahrukh khan</td>\n",
       "    </tr>\n",
       "    <tr>\n",
       "      <th>3</th>\n",
       "      <td>@akshaykumar Highest HGOTY in INDIA: Selmon Kh...</td>\n",
       "      <td>Highest HGOTY in INDIA Selmon Khan  Highest HG...</td>\n",
       "    </tr>\n",
       "    <tr>\n",
       "      <th>4</th>\n",
       "      <td>@ReallySwara If Swaraji can give us an inciden...</td>\n",
       "      <td>If Swaraji can give us an incident where Shahr...</td>\n",
       "    </tr>\n",
       "  </tbody>\n",
       "</table>\n",
       "</div>"
      ],
      "text/plain": [
       "                                                   0  \\\n",
       "0  He’s a very good man. A very rare and beautifu...   \n",
       "1  ik some south asian armys say that jin reminds...   \n",
       "2  sameera khan are you sister of shahrukh khan? ...   \n",
       "3  @akshaykumar Highest HGOTY in INDIA: Selmon Kh...   \n",
       "4  @ReallySwara If Swaraji can give us an inciden...   \n",
       "\n",
       "                                        cleaned_data  \n",
       "0  He s a very good man A very rare and beautiful...  \n",
       "1  ik some south asian armys say that jin reminds...  \n",
       "2       sameera khan are you sister of shahrukh khan  \n",
       "3  Highest HGOTY in INDIA Selmon Khan  Highest HG...  \n",
       "4  If Swaraji can give us an incident where Shahr...  "
      ]
     },
     "execution_count": 31,
     "metadata": {},
     "output_type": "execute_result"
    }
   ],
   "source": [
    "tweet_df.head()"
   ]
  },
  {
   "cell_type": "code",
   "execution_count": 32,
   "metadata": {},
   "outputs": [],
   "source": [
    "# changing all the words of the reviews column to lowercase letters\n",
    "def lower_case(text):\n",
    "    text_words = word_tokenize(text)\n",
    "    text_words_lower = [x.lower() for x in text_words]\n",
    "    return ' '.join(text_words_lower)\n",
    "\n",
    "tweet_df['cleaned_data'] = tweet_df['cleaned_data'].apply(lower_case)"
   ]
  },
  {
   "cell_type": "code",
   "execution_count": 33,
   "metadata": {},
   "outputs": [
    {
     "name": "stderr",
     "output_type": "stream",
     "text": [
      "[nltk_data] Downloading package wordnet to\n",
      "[nltk_data]     C:\\Users\\SYS\\AppData\\Roaming\\nltk_data...\n",
      "[nltk_data]   Package wordnet is already up-to-date!\n"
     ]
    },
    {
     "data": {
      "text/plain": [
       "True"
      ]
     },
     "execution_count": 33,
     "metadata": {},
     "output_type": "execute_result"
    }
   ],
   "source": [
    "import nltk\n",
    "nltk.download('wordnet')"
   ]
  },
  {
   "cell_type": "code",
   "execution_count": 34,
   "metadata": {},
   "outputs": [],
   "source": [
    "lemmatizer = WordNetLemmatizer()\n",
    "def lemmatise(text):\n",
    "    text_tokens = word_tokenize(text)\n",
    "    text_lemm = [lemmatizer.lemmatize(word) for word in text_tokens]\n",
    "    return ' '.join(text_lemm)\n",
    "\n",
    "tweet_df['cleaned_data'] = tweet_df['cleaned_data'].apply(lemmatise)"
   ]
  },
  {
   "cell_type": "code",
   "execution_count": 35,
   "metadata": {},
   "outputs": [
    {
     "data": {
      "text/plain": [
       "array(['he s a very good man a very rare and beautiful actor i have yet to see a man who is so contentious about his work',\n",
       "       'ik some south asian army say that jin reminds them of shahrukh khan and',\n",
       "       'sameera khan are you sister of shahrukh khan',\n",
       "       'highest hgoty in india selmon khan highest hgoty in overseas shahrukh khan highest world',\n",
       "       'if swaraji can give u an incident where shahrukh khan s kid or amir khan s kid or saif ali khan s k',\n",
       "       'every issue is always directed towards caste or religion just to gain more political advantage here t',\n",
       "       'khawateen o hazraat presenting a very low budget sasta shahrukh khan ishqmeinmarjawan cap anuu',\n",
       "       'neha this is raees movie shahrukh khan',\n",
       "       'total overseas gross of whole career for top star including traditional non tradional market salman khan',\n",
       "       'can we just all collectively agree that young shahrukh khan wa the absolute hottest man to ever exist',\n",
       "       'my predicted playing xi of kl rahul cap mayank prabsimran w k gayle pooran shahruk',\n",
       "       'aamir khan v shahrukh nh opening cr cr opening day weekend st week nd week',\n",
       "       'it is reassuring to see shahrukh khan s picture a soon a he wake up in the morning good morning',\n",
       "       'i hope so when her and iman stayed with u that one summer she said let s watch shahrukh khan movie i responded must we',\n",
       "       'name a person who you use to love but hate now i ll go first shahrukh khan',\n",
       "       'total overseas gross of whole career for top s star including traditional non traditional market aamir k',\n",
       "       'indian muslim population ha grown from in to at present they ve been loved',\n",
       "       'highest opening domestic gross s star only aamir khan cr salman khan cr shahrukh khan cr ajay devgn',\n",
       "       'preetipandey isi is backing salman baba siddiqui aamir khan shahrukh khan and islamic song all the producer',\n",
       "       'shahrukh khan is so fine for',\n",
       "       'and it s a century megastars like salman khan aamir khan shahrukh khan are blessed with these type of fan who',\n",
       "       'when shahrukh khan said ek ladka or ladki kabhi dost nahi ho sakte my parent taken this statement seriously',\n",
       "       'first picture is very shahrukh khan pose inspire picture of ur joke apart nice pic',\n",
       "       'hdfc bank we r into service sector buisness wan na feature in your channel',\n",
       "       'shahrukh khan s house in the film angaar kise paata tha ke one day this wonderful house will be own by an ordinary',\n",
       "       'shahrukh khan wa iying mein agar shiddat se kisi cheez ko chaahun tou poori kainat make sure it fuck it up for me',\n",
       "       'it wa supposed to be a shahrukh khan post',\n",
       "       'help i watched it and bawled my eye out bc shahrukh khan wa sad i had no clue what wa going on but i',\n",
       "       'khan happy birthday aamir khan sir one of my favourite actor after shahrukh khan',\n",
       "       'lsc happy birthday aamir khan sir one of my favourite actor after shahrukh khan',\n",
       "       'happy birthday aamir khan sir one of my favourite actor after shahrukh khan',\n",
       "       'he look like shahrukh khan',\n",
       "       'judge me but s salman amp shahrukh khan is my forever crush',\n",
       "       'islaam did you voted for shahrukh khan to make him actor wa it',\n",
       "       'mehboob islaam such a hypocrite person you are salman khan and shahruk',\n",
       "       'islaam but how think logically in a country where majority is',\n",
       "       'mehboob islaam they can become prime minister it is clearly mentioned i',\n",
       "       'if it s top that u r talking about then it s in following order amitabh b',\n",
       "       'indian aunty in every family function aunty beta tumne pehchana itne se the tum me haan aunty in',\n",
       "       'osam actor in the world no one can take place of this great actor bcoz acting know a shahrukh khan',\n",
       "       'i m doing bail case of shahrukh pathan legally on humanitarian ground have experienced worst from the co',\n",
       "       'how about remaking shahrukh khan s baazigar in telugu with or a hero justasking',\n",
       "       'shahrukh khan slap aamir khan through his word hbd tingu aamir',\n",
       "       'i asked the make up man to push shahrukh khan s mop of hair back with gel because he wa looking like a mawaali',\n",
       "       'a leaked action sequence video from the set of shahrukh khan starrer movie pathan please retweet the video to',\n",
       "       'shahrukh khan wa lying if i really really want something the universe make sure it fuck it up for me',\n",
       "       'yes i gave shahrukh khan his break in bollywood he couldn t believe it wa me when i rang him up to ask h',\n",
       "       'this is the type of shit shahrukh khan say in movie i can t breathe',\n",
       "       'sn it will but first four slot are taken in punjab line up kl mayank gayle pooran hooda mandeep',\n",
       "       'pen sketch day one time draw no repeat shahrukh khan indian actor whenever i fail a a f',\n",
       "       'ssr family using kaudi ka bot against salman khan in past they also targeted hrithik akshay shahrukh also n',\n",
       "       'shahrukh khan is an interesting watch a is sarfaraz didn t mention tewatia a he is already earned his call up',\n",
       "       'deepika padukone shahrukh khan and john abraham have shot for a special announcement video for the film pathan at',\n",
       "       'i thought shahrukh khan and salman khan',\n",
       "       'm liked post on instagram akshay kumar salman khan shahrukh khan king of bollywood akshaykumar',\n",
       "       'don t be shy become a weishenie shahrukh khan uncle nim',\n",
       "       'they definitely look like best father son duo also for dilip sir and saira mam shahrukh khan is their muh bo',\n",
       "       'this tweet ha shahrukh khan movie from the s vibe',\n",
       "       'that we forget that love isn t just your shahrukh khan and every girl in bollywood jo uski beti ho sakti thi but l',\n",
       "       'shahrukh khan wa lying mai agr shiddat sy kise cheez ko chahun tou puri kainaat make sure it fuck it up for me',\n",
       "       'shahrukh khan wa honoured with the most prominent international celebrity award in shahrukhkhan',\n",
       "       'no no not at all when she prepared to leave this is what yashwant sinha did this became inspiration',\n",
       "       'actor u love the most hollywood brad pitt tom cruise morgan freeman robert downey bollywood shahrukh khan r',\n",
       "       'brightmediapakistan some people don t like my film for personal reason shahrukh khan',\n",
       "       'shahrukh khan wa lying mai agr kisi chiz ko shiddat sai chaahun to puri kainat make sure it fuck it up for me',\n",
       "       'shahrukh khan lied when he said aik tarfa pyaar is the most beautiful feeling in the world dil dukhta hai bhae',\n",
       "       'ganesh yeah bro then what wa the need of paying so much on him easily we could have bought ad',\n",
       "       'how many of u have watched mohabbatain movie of shahrukh khan we love you aly',\n",
       "       'shahrukh khan wiki age family movie hd photo biography and more bollywood actor shahrukhkhan',\n",
       "       'shahrukh khan wa lying if i really really want something the universe make sure it fuck it up for me'],\n",
       "      dtype=object)"
      ]
     },
     "execution_count": 35,
     "metadata": {},
     "output_type": "execute_result"
    }
   ],
   "source": [
    "tweet_df['cleaned_data'].values"
   ]
  },
  {
   "cell_type": "code",
   "execution_count": 36,
   "metadata": {},
   "outputs": [],
   "source": [
    "def remove_stopword(text):\n",
    "    text_tokens = word_tokenize(text)\n",
    "    tokens = [word for word in text_tokens if not word in set(stopwords.words('english'))]\n",
    "    tokens_text = ' '.join(tokens)\n",
    "    return tokens_text\n",
    "\n",
    "tweet_df['cleaned_data'] = tweet_df['cleaned_data'].apply(remove_stopword)"
   ]
  },
  {
   "cell_type": "code",
   "execution_count": 37,
   "metadata": {},
   "outputs": [
    {
     "data": {
      "text/plain": [
       "array(['good man rare beautiful actor yet see man contentious work',\n",
       "       'ik south asian army say jin reminds shahrukh khan',\n",
       "       'sameera khan sister shahrukh khan',\n",
       "       'highest hgoty india selmon khan highest hgoty overseas shahrukh khan highest world',\n",
       "       'swaraji give u incident shahrukh khan kid amir khan kid saif ali khan k',\n",
       "       'every issue always directed towards caste religion gain political advantage',\n",
       "       'khawateen hazraat presenting low budget sasta shahrukh khan ishqmeinmarjawan cap anuu',\n",
       "       'neha raees movie shahrukh khan',\n",
       "       'total overseas gross whole career top star including traditional non tradional market salman khan',\n",
       "       'collectively agree young shahrukh khan wa absolute hottest man ever exist',\n",
       "       'predicted playing xi kl rahul cap mayank prabsimran w k gayle pooran shahruk',\n",
       "       'aamir khan v shahrukh nh opening cr cr opening day weekend st week nd week',\n",
       "       'reassuring see shahrukh khan picture soon wake morning good morning',\n",
       "       'hope iman stayed u one summer said let watch shahrukh khan movie responded must',\n",
       "       'name person use love hate go first shahrukh khan',\n",
       "       'total overseas gross whole career top star including traditional non traditional market aamir k',\n",
       "       'indian muslim population ha grown present loved',\n",
       "       'highest opening domestic gross star aamir khan cr salman khan cr shahrukh khan cr ajay devgn',\n",
       "       'preetipandey isi backing salman baba siddiqui aamir khan shahrukh khan islamic song producer',\n",
       "       'shahrukh khan fine',\n",
       "       'century megastars like salman khan aamir khan shahrukh khan blessed type fan',\n",
       "       'shahrukh khan said ek ladka ladki kabhi dost nahi ho sakte parent taken statement seriously',\n",
       "       'first picture shahrukh khan pose inspire picture ur joke apart nice pic',\n",
       "       'hdfc bank r service sector buisness wan na feature channel',\n",
       "       'shahrukh khan house film angaar kise paata tha ke one day wonderful house ordinary',\n",
       "       'shahrukh khan wa iying mein agar shiddat se kisi cheez ko chaahun tou poori kainat make sure fuck',\n",
       "       'wa supposed shahrukh khan post',\n",
       "       'help watched bawled eye bc shahrukh khan wa sad clue wa going',\n",
       "       'khan happy birthday aamir khan sir one favourite actor shahrukh khan',\n",
       "       'lsc happy birthday aamir khan sir one favourite actor shahrukh khan',\n",
       "       'happy birthday aamir khan sir one favourite actor shahrukh khan',\n",
       "       'look like shahrukh khan',\n",
       "       'judge salman amp shahrukh khan forever crush',\n",
       "       'islaam voted shahrukh khan make actor wa',\n",
       "       'mehboob islaam hypocrite person salman khan shahruk',\n",
       "       'islaam think logically country majority',\n",
       "       'mehboob islaam become prime minister clearly mentioned',\n",
       "       'top u r talking following order amitabh b',\n",
       "       'indian aunty every family function aunty beta tumne pehchana itne se tum haan aunty',\n",
       "       'osam actor world one take place great actor bcoz acting know shahrukh khan',\n",
       "       'bail case shahrukh pathan legally humanitarian ground experienced worst co',\n",
       "       'remaking shahrukh khan baazigar telugu hero justasking',\n",
       "       'shahrukh khan slap aamir khan word hbd tingu aamir',\n",
       "       'asked make man push shahrukh khan mop hair back gel wa looking like mawaali',\n",
       "       'leaked action sequence video set shahrukh khan starrer movie pathan please retweet video',\n",
       "       'shahrukh khan wa lying really really want something universe make sure fuck',\n",
       "       'yes gave shahrukh khan break bollywood believe wa rang ask h',\n",
       "       'type shit shahrukh khan say movie breathe',\n",
       "       'sn first four slot taken punjab line kl mayank gayle pooran hooda mandeep',\n",
       "       'pen sketch day one time draw repeat shahrukh khan indian actor whenever fail f',\n",
       "       'ssr family using kaudi ka bot salman khan past also targeted hrithik akshay shahrukh also n',\n",
       "       'shahrukh khan interesting watch sarfaraz mention tewatia already earned call',\n",
       "       'deepika padukone shahrukh khan john abraham shot special announcement video film pathan',\n",
       "       'thought shahrukh khan salman khan',\n",
       "       'liked post instagram akshay kumar salman khan shahrukh khan king bollywood akshaykumar',\n",
       "       'shy become weishenie shahrukh khan uncle nim',\n",
       "       'definitely look like best father son duo also dilip sir saira mam shahrukh khan muh bo',\n",
       "       'tweet ha shahrukh khan movie vibe',\n",
       "       'forget love shahrukh khan every girl bollywood jo uski beti ho sakti thi l',\n",
       "       'shahrukh khan wa lying mai agr shiddat sy kise cheez ko chahun tou puri kainaat make sure fuck',\n",
       "       'shahrukh khan wa honoured prominent international celebrity award shahrukhkhan',\n",
       "       'prepared leave yashwant sinha became inspiration',\n",
       "       'actor u love hollywood brad pitt tom cruise morgan freeman robert downey bollywood shahrukh khan r',\n",
       "       'brightmediapakistan people like film personal reason shahrukh khan',\n",
       "       'shahrukh khan wa lying mai agr kisi chiz ko shiddat sai chaahun puri kainat make sure fuck',\n",
       "       'shahrukh khan lied said aik tarfa pyaar beautiful feeling world dil dukhta hai bhae',\n",
       "       'ganesh yeah bro wa need paying much easily could bought ad',\n",
       "       'many u watched mohabbatain movie shahrukh khan love aly',\n",
       "       'shahrukh khan wiki age family movie hd photo biography bollywood actor shahrukhkhan',\n",
       "       'shahrukh khan wa lying really really want something universe make sure fuck'],\n",
       "      dtype=object)"
      ]
     },
     "execution_count": 37,
     "metadata": {},
     "output_type": "execute_result"
    }
   ],
   "source": [
    "tweet_df['cleaned_data'].values"
   ]
  },
  {
   "cell_type": "markdown",
   "metadata": {},
   "source": [
    "# 5"
   ]
  },
  {
   "cell_type": "code",
   "execution_count": 38,
   "metadata": {},
   "outputs": [],
   "source": [
    "# Lets calculate the Polarity of the Reviews\n",
    "def get_polarity(text):\n",
    "    textblob = TextBlob(str(text))\n",
    "    pol = textblob.sentiment.polarity\n",
    "    if(pol==0):\n",
    "        return \"Neutral\"\n",
    "    elif(pol>0 and pol<=0.3):\n",
    "        return \"Weakly Positive\"\n",
    "    elif(pol>0.3 and pol<=0.6):\n",
    "        return \"Positive\"\n",
    "    elif(pol>0.6 and pol<=1):\n",
    "        return \"Strongly Positive\"\n",
    "    elif(pol>-0.3 and pol<=0):\n",
    "        return \"Weakly Negative\"\n",
    "    elif(pol>-0.6 and pol<=-0.3):\n",
    "        return \"Negative\"\n",
    "    elif(pol>-1 and pol<=-0.6):\n",
    "        return \"Strongly Negative\"\n",
    "    \n",
    "tweet_df['polarity'] = tweet_df['cleaned_data'].apply(get_polarity)"
   ]
  },
  {
   "cell_type": "code",
   "execution_count": 39,
   "metadata": {},
   "outputs": [
    {
     "data": {
      "text/plain": [
       "Neutral              29\n",
       "Weakly Positive      14\n",
       "Positive             13\n",
       "Strongly Positive     6\n",
       "Weakly Negative       4\n",
       "Negative              4\n",
       "Name: polarity, dtype: int64"
      ]
     },
     "execution_count": 39,
     "metadata": {},
     "output_type": "execute_result"
    }
   ],
   "source": [
    "tweet_df['polarity'].value_counts()"
   ]
  },
  {
   "cell_type": "code",
   "execution_count": 66,
   "metadata": {},
   "outputs": [
    {
     "data": {
      "text/plain": [
       "0               object\n",
       "cleaned_data    object\n",
       "polarity        object\n",
       "dtype: object"
      ]
     },
     "execution_count": 66,
     "metadata": {},
     "output_type": "execute_result"
    }
   ],
   "source": [
    "tweet_df.dtypes"
   ]
  },
  {
   "cell_type": "code",
   "execution_count": 40,
   "metadata": {},
   "outputs": [],
   "source": [
    "neutral = 0\n",
    "wpositive = 0\n",
    "spositive = 0\n",
    "positive = 0\n",
    "negative = 0\n",
    "wnegative = 0\n",
    "snegative = 0\n",
    "polarity = 0\n",
    "\n",
    "for i in range(0,70):\n",
    "    textblob = TextBlob(str(tweet_df['cleaned_data'][i]))\n",
    "    polarity+= textblob.sentiment.polarity\n",
    "    pol = textblob.sentiment.polarity\n",
    "    if (pol == 0):  # adding reaction of how people are reacting to find average later\n",
    "        neutral += 1\n",
    "    elif (pol > 0 and pol <= 0.3):\n",
    "        wpositive += 1\n",
    "    elif (pol > 0.3 and pol <= 0.6):\n",
    "        positive += 1\n",
    "    elif (pol > 0.6 and pol <= 1):\n",
    "        spositive += 1\n",
    "    elif (pol > -0.3 and pol <= 0):\n",
    "        wnegative += 1\n",
    "    elif (pol > -0.6 and pol <= -0.3):\n",
    "        negative += 1\n",
    "    elif (pol > -1 and pol <= -0.6):\n",
    "        snegative += 1\n"
   ]
  },
  {
   "cell_type": "code",
   "execution_count": 42,
   "metadata": {},
   "outputs": [
    {
     "data": {
      "text/plain": [
       "0.14114965986394554"
      ]
     },
     "execution_count": 42,
     "metadata": {},
     "output_type": "execute_result"
    }
   ],
   "source": [
    "# finding average reaction\n",
    "polarity = polarity / NoOfTerms\n",
    "polarity"
   ]
  },
  {
   "cell_type": "code",
   "execution_count": 43,
   "metadata": {},
   "outputs": [],
   "source": [
    "def percentage(part, whole):\n",
    "    temp = 100 * float(part) / float(whole)\n",
    "    return format(temp, '.2f')"
   ]
  },
  {
   "cell_type": "code",
   "execution_count": 44,
   "metadata": {},
   "outputs": [],
   "source": [
    " # finding average of how people are reacting\n",
    "positive = percentage(positive, NoOfTerms)\n",
    "wpositive = percentage(wpositive, NoOfTerms)\n",
    "spositive = percentage(spositive, NoOfTerms)\n",
    "negative = percentage(negative, NoOfTerms)\n",
    "wnegative = percentage(wnegative, NoOfTerms)\n",
    "snegative = percentage(snegative, NoOfTerms)\n",
    "neutral = percentage(neutral, NoOfTerms)\n",
    "\n"
   ]
  },
  {
   "cell_type": "code",
   "execution_count": 50,
   "metadata": {},
   "outputs": [
    {
     "name": "stdout",
     "output_type": "stream",
     "text": [
      "How people are reacting on shahrukh khan by analyzing 70 tweets.\n",
      "\n",
      "-----------------------------------------------------------------------------------------\n",
      "\n",
      "General Report: \n",
      "Weakly Positive\n",
      "\n",
      "------------------------------------------------------------------------------------------\n",
      "\n",
      "Detailed Report: \n",
      "18.57% people thought it was positive\n",
      "20.00% people thought it was weakly positive\n",
      "8.57% people thought it was strongly positive\n",
      "5.71% people thought it was negative\n",
      "5.71% people thought it was weakly negative\n",
      "0.00% people thought it was strongly negative\n",
      "41.43% people thought it was neutral\n"
     ]
    }
   ],
   "source": [
    " # printing out data\n",
    "print(\"How people are reacting on \" + searchTerm + \" by analyzing \" + str(NoOfTerms) + \" tweets.\")\n",
    "print()\n",
    "print(\"-----------------------------------------------------------------------------------------\")\n",
    "print()\n",
    "print(\"General Report: \")\n",
    "\n",
    "if (polarity == 0):\n",
    "    print(\"Neutral\")\n",
    "elif (polarity > 0 and polarity <= 0.3):\n",
    "    print(\"Weakly Positive\")\n",
    "elif (polarity > 0.3 and polarity <= 0.6):\n",
    "    print(\"Positive\")\n",
    "elif (polarity > 0.6 and polarity <= 1):\n",
    "    print(\"Strongly Positive\")\n",
    "elif (polarity > -0.3 and polarity <= 0):\n",
    "    print(\"Weakly Negative\")\n",
    "elif (polarity > -0.6 and polarity <= -0.3):\n",
    "    print(\"Negative\")\n",
    "elif (polarity > -1 and polarity <= -0.6):\n",
    "    print(\"Strongly Negative\")\n",
    "\n",
    "print()\n",
    "print(\"------------------------------------------------------------------------------------------\")\n",
    "print()\n",
    "print(\"Detailed Report: \")\n",
    "print(str(positive) + \"% people thought it was positive\")\n",
    "print(str(wpositive) + \"% people thought it was weakly positive\")\n",
    "print(str(spositive) + \"% people thought it was strongly positive\")\n",
    "print(str(negative) + \"% people thought it was negative\")\n",
    "print(str(wnegative) + \"% people thought it was weakly negative\")\n",
    "print(str(snegative) + \"% people thought it was strongly negative\")\n",
    "print(str(neutral) + \"% people thought it was neutral\")"
   ]
  },
  {
   "cell_type": "code",
   "execution_count": 55,
   "metadata": {},
   "outputs": [],
   "source": [
    "sizes = [positive, wpositive, spositive, neutral, negative, wnegative, snegative]\n",
    "colors = ['yellowgreen','lightgreen','darkgreen', 'gold', 'red','lightsalmon','darkred']\n",
    "labels = ['Positive [' + str(positive) + '%]', 'Weakly Positive [' + str(wpositive) + '%]',\n",
    "          'Strongly Positive [' + str(spositive) + '%]', 'Neutral [' + str(neutral) + '%]',\n",
    "          'Negative [' + str(negative) + '%]', 'Weakly Negative [' + str(wnegative) + '%]', \n",
    "          'Strongly Negative [' + str(snegative) + '%]']"
   ]
  },
  {
   "cell_type": "code",
   "execution_count": 60,
   "metadata": {},
   "outputs": [
    {
     "data": {
      "image/png": "[encoded data removed]",
      "text/plain": [
       "<Figure size 432x288 with 1 Axes>"
      ]
     },
     "metadata": {},
     "output_type": "display_data"
    }
   ],
   "source": [
    "plt.pie(sizes, labels = labels, colors = colors)\n",
    "plt.legend(labels, loc=\"best\")\n",
    "plt.title('How people are reacting on ' + searchTerm + ' by analyzing ' + str(NoOfTerms) + ' Tweets.')\n",
    "plt.axis('equal')\n",
    "plt.tight_layout()\n",
    "plt.show()"
   ]
  },
  {
   "cell_type": "code",
   "execution_count": null,
   "metadata": {},
   "outputs": [],
   "source": []
  }
 ],
 "metadata": {
  "kernelspec": {
   "display_name": "Python 3",
   "language": "python",
   "name": "python3"
  },
  "language_info": {
   "codemirror_mode": {
    "name": "ipython",
    "version": 3
   },
   "file_extension": ".py",
   "mimetype": "text/x-python",
   "name": "python",
   "nbconvert_exporter": "python",
   "pygments_lexer": "ipython3",
   "version": "3.6.8"
  }
 },
 "nbformat": 4,
 "nbformat_minor": 4
}
